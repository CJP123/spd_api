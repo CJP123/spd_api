{
 "cells": [
  {
   "cell_type": "code",
   "execution_count": null,
   "metadata": {},
   "outputs": [],
   "source": [
    "#| hide\n",
    "import sys\n",
    "sys.path.append(\"..\")\n",
    "from spd_api import *"
   ]
  },
  {
   "cell_type": "markdown",
   "metadata": {},
   "source": [
    "# SPD API\n",
    "> Extract data from the [EA](https://www.emi.ea.govt.nz) Website and parse SPD files to dataframes"
   ]
  },
  {
   "cell_type": "markdown",
   "metadata": {},
   "source": [
    "## Install"
   ]
  },
  {
   "cell_type": "markdown",
   "metadata": {},
   "source": [
    "`pip install spd_api`"
   ]
  },
  {
   "cell_type": "markdown",
   "metadata": {},
   "source": [
    "## This is a basic interface with the EA web files to extract data"
   ]
  },
  {
   "cell_type": "markdown",
   "metadata": {},
   "source": [
    "We can choose a year and get a dataframe of the available files:"
   ]
  },
  {
   "cell_type": "code",
   "execution_count": null,
   "metadata": {},
   "outputs": [
    {
     "data": {
      "text/html": [
       "<div>\n",
       "<style scoped>\n",
       "    .dataframe tbody tr th:only-of-type {\n",
       "        vertical-align: middle;\n",
       "    }\n",
       "\n",
       "    .dataframe tbody tr th {\n",
       "        vertical-align: top;\n",
       "    }\n",
       "\n",
       "    .dataframe thead th {\n",
       "        text-align: right;\n",
       "    }\n",
       "</style>\n",
       "<table border=\"1\" class=\"dataframe\">\n",
       "  <thead>\n",
       "    <tr style=\"text-align: right;\">\n",
       "      <th></th>\n",
       "      <th>Name</th>\n",
       "      <th>Date modified</th>\n",
       "      <th>File size</th>\n",
       "      <th>file_size</th>\n",
       "    </tr>\n",
       "    <tr>\n",
       "      <th>file_date</th>\n",
       "      <th></th>\n",
       "      <th></th>\n",
       "      <th></th>\n",
       "      <th></th>\n",
       "    </tr>\n",
       "  </thead>\n",
       "  <tbody>\n",
       "    <tr>\n",
       "      <th>2020-01-01</th>\n",
       "      <td>MSS_311112019121100875_0X.ZIP</td>\n",
       "      <td>02 Jan 2020</td>\n",
       "      <td>6,340 KB</td>\n",
       "      <td>6340</td>\n",
       "    </tr>\n",
       "    <tr>\n",
       "      <th>2020-01-02</th>\n",
       "      <td>MSS_11112020011100861_0X.ZIP</td>\n",
       "      <td>02 Jan 2020</td>\n",
       "      <td>6,350 KB</td>\n",
       "      <td>6350</td>\n",
       "    </tr>\n",
       "    <tr>\n",
       "      <th>2020-01-03</th>\n",
       "      <td>MSS_21112020011100145_0X.ZIP</td>\n",
       "      <td>05 Jan 2020</td>\n",
       "      <td>6,378 KB</td>\n",
       "      <td>6378</td>\n",
       "    </tr>\n",
       "    <tr>\n",
       "      <th>2020-01-04</th>\n",
       "      <td>MSS_31112020011100230_0X.ZIP</td>\n",
       "      <td>06 Jan 2020</td>\n",
       "      <td>6,378 KB</td>\n",
       "      <td>6378</td>\n",
       "    </tr>\n",
       "    <tr>\n",
       "      <th>2020-01-05</th>\n",
       "      <td>MSS_41112020011100102_0X.ZIP</td>\n",
       "      <td>05 Jan 2020</td>\n",
       "      <td>6,382 KB</td>\n",
       "      <td>6382</td>\n",
       "    </tr>\n",
       "    <tr>\n",
       "      <th>...</th>\n",
       "      <td>...</td>\n",
       "      <td>...</td>\n",
       "      <td>...</td>\n",
       "      <td>...</td>\n",
       "    </tr>\n",
       "    <tr>\n",
       "      <th>2020-12-27</th>\n",
       "      <td>MSS_261112020121100745_0X.ZIP</td>\n",
       "      <td>28 Dec 2020</td>\n",
       "      <td>6,375 KB</td>\n",
       "      <td>6375</td>\n",
       "    </tr>\n",
       "    <tr>\n",
       "      <th>2020-12-28</th>\n",
       "      <td>MSS_271112020121100873_0X.ZIP</td>\n",
       "      <td>29 Dec 2020</td>\n",
       "      <td>6,382 KB</td>\n",
       "      <td>6382</td>\n",
       "    </tr>\n",
       "    <tr>\n",
       "      <th>2020-12-29</th>\n",
       "      <td>MSS_281112020121100340_0X.ZIP</td>\n",
       "      <td>29 Dec 2020</td>\n",
       "      <td>6,389 KB</td>\n",
       "      <td>6389</td>\n",
       "    </tr>\n",
       "    <tr>\n",
       "      <th>2020-12-30</th>\n",
       "      <td>MSS_291112020121100051_0X.ZIP</td>\n",
       "      <td>30 Dec 2020</td>\n",
       "      <td>6,390 KB</td>\n",
       "      <td>6390</td>\n",
       "    </tr>\n",
       "    <tr>\n",
       "      <th>2020-12-31</th>\n",
       "      <td>MSS_301112020121100813_0X.ZIP</td>\n",
       "      <td>31 Dec 2020</td>\n",
       "      <td>6,388 KB</td>\n",
       "      <td>6388</td>\n",
       "    </tr>\n",
       "  </tbody>\n",
       "</table>\n",
       "<p>366 rows × 4 columns</p>\n",
       "</div>"
      ],
      "text/plain": [
       "                                     Name Date modified File size  file_size\n",
       "file_date                                                                   \n",
       "2020-01-01  MSS_311112019121100875_0X.ZIP   02 Jan 2020  6,340 KB       6340\n",
       "2020-01-02   MSS_11112020011100861_0X.ZIP   02 Jan 2020  6,350 KB       6350\n",
       "2020-01-03   MSS_21112020011100145_0X.ZIP   05 Jan 2020  6,378 KB       6378\n",
       "2020-01-04   MSS_31112020011100230_0X.ZIP   06 Jan 2020  6,378 KB       6378\n",
       "2020-01-05   MSS_41112020011100102_0X.ZIP   05 Jan 2020  6,382 KB       6382\n",
       "...                                   ...           ...       ...        ...\n",
       "2020-12-27  MSS_261112020121100745_0X.ZIP   28 Dec 2020  6,375 KB       6375\n",
       "2020-12-28  MSS_271112020121100873_0X.ZIP   29 Dec 2020  6,382 KB       6382\n",
       "2020-12-29  MSS_281112020121100340_0X.ZIP   29 Dec 2020  6,389 KB       6389\n",
       "2020-12-30  MSS_291112020121100051_0X.ZIP   30 Dec 2020  6,390 KB       6390\n",
       "2020-12-31  MSS_301112020121100813_0X.ZIP   31 Dec 2020  6,388 KB       6388\n",
       "\n",
       "[366 rows x 4 columns]"
      ]
     },
     "execution_count": null,
     "metadata": {},
     "output_type": "execute_result"
    }
   ],
   "source": [
    "extract_spd_list(2020)"
   ]
  },
  {
   "cell_type": "markdown",
   "metadata": {},
   "source": [
    "More practically is to list a month and a year (due to size issues) and this will return the bus and branch data"
   ]
  },
  {
   "cell_type": "code",
   "execution_count": null,
   "metadata": {},
   "outputs": [
    {
     "data": {
      "text/plain": [
       "(                INTERVAL               BRANCHNAME FROM_STATION TO_STATION  \\\n",
       " 0    2022-01-01 00:00:00         ABY     MXT1MXT1          ABY        ABY   \n",
       " 1    2022-01-01 00:00:00           ABY     T2  T2          ABY        ABY   \n",
       " 2    2022-01-01 00:00:00  ALB     ALB_HEN3      1          ALB        HEN   \n",
       " 3    2022-01-01 00:00:00  ALB     ALB_HPI1      1          ALB        HPI   \n",
       " 4    2022-01-01 00:00:00  ALB     ALB_SVL1      1          ALB        SVL   \n",
       " ...                  ...                      ...          ...        ...   \n",
       " 1077 2022-01-31 23:30:00           WTU     T4  T4          WTU        WTU   \n",
       " 1078 2022-01-31 23:30:00         WVY     MXT1MXT1          WVY        WVY   \n",
       " 1079 2022-01-31 23:30:00           WVY     T1  T1          WVY        WVY   \n",
       " 1080 2022-01-31 23:30:00           WWD     T1  T1          WWD        WWD   \n",
       " 1081 2022-01-31 23:30:00           WWD     T2  T2          WWD        WWD   \n",
       " \n",
       "         FROM_MW      TO_MW  BRANCHLOSSES  \n",
       " 0      0.000000   0.000000       0.00000  \n",
       " 1     -4.597000  -4.606000       0.01446  \n",
       " 2    -18.837000 -18.860001       0.02267  \n",
       " 3     13.488000  13.478000       0.00905  \n",
       " 4     14.881000  14.872000       0.00912  \n",
       " ...         ...        ...           ...  \n",
       " 1077  19.447001  19.407000       0.06421  \n",
       " 1078   0.000000   0.000000       0.00000  \n",
       " 1079   2.808000   2.799000       0.01193  \n",
       " 1080  -0.318000  -0.318000       0.00000  \n",
       " 1081  -2.753000  -2.753000       0.00000  \n",
       " \n",
       " [1612512 rows x 7 columns],\n",
       "                INTERVAL ID_BUS ID_ST       LOAD  GENERATION\n",
       " 0   2022-01-01 00:00:00    100   MVE   0.000000      0.0000\n",
       " 1   2022-01-01 00:00:00    101   MVE   0.000000      0.0000\n",
       " 2   2022-01-01 00:00:00    102   RTO   0.000000      0.0000\n",
       " 3   2022-01-01 00:00:00    103   CBG  19.943001      0.0000\n",
       " 4   2022-01-01 00:00:00    104   CBG   0.000000      0.0000\n",
       " ..                  ...    ...   ...        ...         ...\n",
       " 930 2022-01-31 23:30:00     95   ARI   0.000000     15.3333\n",
       " 931 2022-01-31 23:30:00     96   ARI   0.000000     15.3333\n",
       " 932 2022-01-31 23:30:00     97   ARI   0.000000     15.3333\n",
       " 933 2022-01-31 23:30:00     98   ARI   0.000000      0.0000\n",
       " 934 2022-01-31 23:30:00     99   MVE   0.000000      0.0000\n",
       " \n",
       " [1392881 rows x 5 columns])"
      ]
     },
     "execution_count": null,
     "metadata": {},
     "output_type": "execute_result"
    }
   ],
   "source": [
    "month, year = 1 , 2022\n",
    "spd_df = extract_spd_list(year)\n",
    "await main_spd(spd_df.loc[f'{year}-{month}'], year)"
   ]
  }
 ],
 "metadata": {
  "kernelspec": {
   "display_name": "Python 3.10.4 64-bit",
   "language": "python",
   "name": "python3"
  }
 },
 "nbformat": 4,
 "nbformat_minor": 4
}
